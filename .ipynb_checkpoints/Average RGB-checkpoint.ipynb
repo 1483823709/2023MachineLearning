{
 "cells": [
  {
   "cell_type": "code",
   "execution_count": 14,
   "id": "071b4344",
   "metadata": {},
   "outputs": [
    {
     "name": "stdout",
     "output_type": "stream",
     "text": [
      "32.26539611816406\n",
      "44.173126220703125\n",
      "40.39491271972656\n"
     ]
    }
   ],
   "source": [
    "import cv2\n",
    "import os\n",
    "import numpy as np\n",
    "\n",
    "per_image_Rmean = []\n",
    "per_image_Gmean = []\n",
    "per_image_Bmean = []\n",
    "path=\"forest/forest05.tif\"\n",
    "\n",
    "img = cv2.imread(os.path.join(path), 1)\n",
    "per_image_Bmean.append(np.mean(img[:,:,0]))\n",
    "per_image_Gmean.append(np.mean(img[:,:,1]))\n",
    "per_image_Rmean.append(np.mean(img[:,:,2]))\n",
    "    \n",
    "R_mean = np.mean(per_image_Rmean)\n",
    "G_mean = np.mean(per_image_Gmean)\n",
    "B_mean = np.mean(per_image_Bmean)\n",
    "\n",
    "print(R_mean)\n",
    "print(G_mean)\n",
    "print(B_mean)\n",
    "\n",
    "    \n",
    "    \n",
    "    "
   ]
  },
  {
   "cell_type": "code",
   "execution_count": null,
   "id": "4b78bd9b",
   "metadata": {},
   "outputs": [],
   "source": []
  }
 ],
 "metadata": {
  "kernelspec": {
   "display_name": "Python 3 (ipykernel)",
   "language": "python",
   "name": "python3"
  },
  "language_info": {
   "codemirror_mode": {
    "name": "ipython",
    "version": 3
   },
   "file_extension": ".py",
   "mimetype": "text/x-python",
   "name": "python",
   "nbconvert_exporter": "python",
   "pygments_lexer": "ipython3",
   "version": "3.10.9"
  }
 },
 "nbformat": 4,
 "nbformat_minor": 5
}
