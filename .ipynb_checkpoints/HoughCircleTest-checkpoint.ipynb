{
 "cells": [
  {
   "cell_type": "code",
   "execution_count": 5,
   "id": "ba05a28e",
   "metadata": {},
   "outputs": [
    {
     "ename": "error",
     "evalue": "OpenCV(4.7.0) D:\\a\\opencv-python\\opencv-python\\opencv\\modules\\imgproc\\src\\hough.cpp:2272: error: (-211:One of the arguments' values is out of range) dp, min_dist and canny_threshold must be all positive numbers in function 'cv::HoughCircles'\n",
     "output_type": "error",
     "traceback": [
      "\u001b[1;31m---------------------------------------------------------------------------\u001b[0m",
      "\u001b[1;31merror\u001b[0m                                     Traceback (most recent call last)",
      "Cell \u001b[1;32mIn[5], line 28\u001b[0m\n\u001b[0;32m     25\u001b[0m minRadius \u001b[38;5;241m=\u001b[39m \u001b[38;5;241m2\u001b[39m \u001b[38;5;241m*\u001b[39m cv2\u001b[38;5;241m.\u001b[39mgetTrackbarPos(\u001b[38;5;124m'\u001b[39m\u001b[38;5;124mminRadius\u001b[39m\u001b[38;5;124m'\u001b[39m, WindowName)  \u001b[38;5;66;03m# 获取滑动条值\u001b[39;00m\n\u001b[0;32m     26\u001b[0m maxRadius \u001b[38;5;241m=\u001b[39m cv2\u001b[38;5;241m.\u001b[39mgetTrackbarPos(\u001b[38;5;124m'\u001b[39m\u001b[38;5;124mmaxRadius\u001b[39m\u001b[38;5;124m'\u001b[39m, WindowName)  \u001b[38;5;66;03m# 获取滑动条值\u001b[39;00m\n\u001b[1;32m---> 28\u001b[0m circles \u001b[38;5;241m=\u001b[39m \u001b[43mcv2\u001b[49m\u001b[38;5;241;43m.\u001b[39;49m\u001b[43mHoughCircles\u001b[49m\u001b[43m(\u001b[49m\u001b[43medges\u001b[49m\u001b[43m,\u001b[49m\u001b[43m \u001b[49m\u001b[43mcv2\u001b[49m\u001b[38;5;241;43m.\u001b[39;49m\u001b[43mHOUGH_GRADIENT\u001b[49m\u001b[43m,\u001b[49m\u001b[43m \u001b[49m\u001b[38;5;241;43m1\u001b[39;49m\u001b[43m,\u001b[49m\u001b[43m \u001b[49m\u001b[38;5;241;43m20\u001b[39;49m\u001b[43m,\u001b[49m\u001b[43m \u001b[49m\u001b[38;5;241;43m50\u001b[39;49m\u001b[43m,\u001b[49m\u001b[43m \u001b[49m\u001b[43mthreshold\u001b[49m\u001b[43m,\u001b[49m\u001b[43m \u001b[49m\u001b[43mminRadius\u001b[49m\u001b[43m,\u001b[49m\u001b[43m \u001b[49m\u001b[43mmaxRadius\u001b[49m\u001b[43m)\u001b[49m\n\u001b[0;32m     29\u001b[0m \u001b[38;5;28;01mfor\u001b[39;00m i \u001b[38;5;129;01min\u001b[39;00m circles[\u001b[38;5;241m0\u001b[39m, :]:\n\u001b[0;32m     30\u001b[0m     \u001b[38;5;28;01mif\u001b[39;00m \u001b[38;5;28mlen\u001b[39m(circles) \u001b[38;5;241m>\u001b[39m \u001b[38;5;241m1\u001b[39m:\n",
      "\u001b[1;31merror\u001b[0m: OpenCV(4.7.0) D:\\a\\opencv-python\\opencv-python\\opencv\\modules\\imgproc\\src\\hough.cpp:2272: error: (-211:One of the arguments' values is out of range) dp, min_dist and canny_threshold must be all positive numbers in function 'cv::HoughCircles'\n"
     ]
    }
   ],
   "source": [
    "import cv2\n",
    "import numpy as np\n",
    "from matplotlib import pyplot as plt\n",
    "\n",
    "#https://blog.csdn.net/yukinoai/article/details/88366564\n",
    "\n",
    "def nothing(x):  # 滑动条的回调函数\n",
    "    pass\n",
    "\n",
    "\n",
    "src = cv2.imread(\"forest/forest00.tif\")  #airplane l2=5417 bin=57    #forest l2=100 bin=57\n",
    "srcBlur = cv2.GaussianBlur(src, (3, 3), 0)\n",
    "gray = cv2.cvtColor(srcBlur, cv2.COLOR_BGR2GRAY)\n",
    "WindowName = 'Approx'  # 窗口名\n",
    "cv2.namedWindow(WindowName, cv2.WINDOW_AUTOSIZE)  # 建立空窗口\n",
    "\n",
    "cv2.createTrackbar('threshold', WindowName, 0, 100, nothing)  # 创建滑动条\n",
    "cv2.createTrackbar('minRadius', WindowName, 0, 100, nothing)  # 创建滑动条\n",
    "cv2.createTrackbar('maxRadius', WindowName, 0, 100, nothing)  # 创建滑动条\n",
    "\n",
    "while (1):\n",
    "    img = src.copy()\n",
    "    threshold = cv2.getTrackbarPos('threshold', WindowName)  # 获取滑动条值\n",
    "    minRadius = 2 * cv2.getTrackbarPos('minRadius', WindowName)  # 获取滑动条值\n",
    "    maxRadius = cv2.getTrackbarPos('maxRadius', WindowName)  # 获取滑动条值\n",
    "    \n",
    "    circles = cv2.HoughCircles(edges, cv2.HOUGH_GRADIENT, 1, 20, 50, threshold, minRadius, maxRadius)\n",
    "    for i in circles[0, :]:\n",
    "        if len(circles) > 1:\n",
    "            print('不止一个圆')\n",
    "        else:\n",
    "            cv2.circle(frame_lwpCV, (i[0], i[1]), i[2], (0, 0, 255), 2)  # 画圆\n",
    "            cv2.circle(frame_lwpCV, (i[0], i[1]), 2, (0, 0, 255), 2)  # 画圆心\n",
    "            circle_number += 1\n",
    "#circle.shpe为（1，1，3）（未知，圆序号，列（圆心X坐标，圆心y坐标，半径））\n",
    "\n",
    "\n",
    "    cv2.imshow(WindowName, img)\n",
    "    print(maxLength)\n",
    "    k = cv2.waitKey(1) & 0xFF\n",
    "    if k == 27:\n",
    "        break\n",
    "\n",
    "cv2.destroyAllWindows()"
   ]
  },
  {
   "cell_type": "code",
   "execution_count": null,
   "id": "288d9fb3",
   "metadata": {},
   "outputs": [],
   "source": []
  },
  {
   "cell_type": "code",
   "execution_count": null,
   "id": "768ee3d3",
   "metadata": {},
   "outputs": [],
   "source": []
  },
  {
   "cell_type": "code",
   "execution_count": null,
   "id": "0629114c",
   "metadata": {},
   "outputs": [],
   "source": []
  }
 ],
 "metadata": {
  "kernelspec": {
   "display_name": "Python 3 (ipykernel)",
   "language": "python",
   "name": "python3"
  },
  "language_info": {
   "codemirror_mode": {
    "name": "ipython",
    "version": 3
   },
   "file_extension": ".py",
   "mimetype": "text/x-python",
   "name": "python",
   "nbconvert_exporter": "python",
   "pygments_lexer": "ipython3",
   "version": "3.10.9"
  }
 },
 "nbformat": 4,
 "nbformat_minor": 5
}
