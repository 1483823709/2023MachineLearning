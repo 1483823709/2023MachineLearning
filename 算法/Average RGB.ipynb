{
 "cells": [
  {
   "cell_type": "code",
   "execution_count": 1,
   "id": "071b4344",
   "metadata": {
    "ExecuteTime": {
     "end_time": "2023-05-20T13:58:44.355920400Z",
     "start_time": "2023-05-20T13:58:43.691143900Z"
    }
   },
   "outputs": [
    {
     "ename": "TypeError",
     "evalue": "'NoneType' object is not subscriptable",
     "output_type": "error",
     "traceback": [
      "\u001B[1;31m---------------------------------------------------------------------------\u001B[0m",
      "\u001B[1;31mTypeError\u001B[0m                                 Traceback (most recent call last)",
      "Cell \u001B[1;32mIn[1], line 11\u001B[0m\n\u001B[0;32m      8\u001B[0m path\u001B[38;5;241m=\u001B[39m\u001B[38;5;124m\"\u001B[39m\u001B[38;5;124mforest/forest05.tif\u001B[39m\u001B[38;5;124m\"\u001B[39m\n\u001B[0;32m     10\u001B[0m img \u001B[38;5;241m=\u001B[39m cv2\u001B[38;5;241m.\u001B[39mimread(os\u001B[38;5;241m.\u001B[39mpath\u001B[38;5;241m.\u001B[39mjoin(path), \u001B[38;5;241m1\u001B[39m)\n\u001B[1;32m---> 11\u001B[0m per_image_Bmean\u001B[38;5;241m.\u001B[39mappend(np\u001B[38;5;241m.\u001B[39mmean(\u001B[43mimg\u001B[49m\u001B[43m[\u001B[49m\u001B[43m:\u001B[49m\u001B[43m,\u001B[49m\u001B[43m:\u001B[49m\u001B[43m,\u001B[49m\u001B[38;5;241;43m0\u001B[39;49m\u001B[43m]\u001B[49m))\n\u001B[0;32m     12\u001B[0m per_image_Gmean\u001B[38;5;241m.\u001B[39mappend(np\u001B[38;5;241m.\u001B[39mmean(img[:,:,\u001B[38;5;241m1\u001B[39m]))\n\u001B[0;32m     13\u001B[0m per_image_Rmean\u001B[38;5;241m.\u001B[39mappend(np\u001B[38;5;241m.\u001B[39mmean(img[:,:,\u001B[38;5;241m2\u001B[39m]))\n",
      "\u001B[1;31mTypeError\u001B[0m: 'NoneType' object is not subscriptable"
     ]
    }
   ],
   "source": [
    "import cv2\n",
    "import os\n",
    "import numpy as np\n",
    "\n",
    "per_image_Rmean = []\n",
    "per_image_Gmean = []\n",
    "per_image_Bmean = []\n",
    "path=\"forest/forest05.tif\"\n",
    "\n",
    "img = cv2.imread(os.path.join(path), 1)\n",
    "per_image_Bmean.append(np.mean(img[:,:,0]))\n",
    "per_image_Gmean.append(np.mean(img[:,:,1]))\n",
    "per_image_Rmean.append(np.mean(img[:,:,2]))\n",
    "    \n",
    "R_mean = np.mean(per_image_Rmean)\n",
    "G_mean = np.mean(per_image_Gmean)\n",
    "B_mean = np.mean(per_image_Bmean)\n",
    "\n",
    "print(R_mean)\n",
    "print(G_mean)\n",
    "print(B_mean)\n",
    "\n",
    "    \n",
    "    \n",
    "    "
   ]
  },
  {
   "cell_type": "code",
   "execution_count": null,
   "id": "4b78bd9b",
   "metadata": {},
   "outputs": [],
   "source": []
  }
 ],
 "metadata": {
  "kernelspec": {
   "display_name": "Python 3 (ipykernel)",
   "language": "python",
   "name": "python3"
  },
  "language_info": {
   "codemirror_mode": {
    "name": "ipython",
    "version": 3
   },
   "file_extension": ".py",
   "mimetype": "text/x-python",
   "name": "python",
   "nbconvert_exporter": "python",
   "pygments_lexer": "ipython3",
   "version": "3.10.9"
  }
 },
 "nbformat": 4,
 "nbformat_minor": 5
}
