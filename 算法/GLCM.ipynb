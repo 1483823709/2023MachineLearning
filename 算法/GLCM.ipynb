{
 "cells": [
  {
   "cell_type": "code",
   "execution_count": 35,
   "metadata": {
    "collapsed": true,
    "ExecuteTime": {
     "end_time": "2023-05-20T18:27:06.258880600Z",
     "start_time": "2023-05-20T18:27:06.152677400Z"
    }
   },
   "outputs": [
    {
     "name": "stdout",
     "output_type": "stream",
     "text": [
      "===============================\n",
      "\n",
      "ASM_mean:  0.00042041255350545984\n",
      "ASM_mean:  0.0015436433402773013\n",
      "ASM_std: 0.00013228021364560387\n",
      "ASM_std: 0.00038548772834121926\n",
      "==============================\n",
      "\n",
      "contrast_mean:  826.0993423345803\n",
      "contrast_mean:  311.60436226528793\n",
      "contrast_std: 571.6666629825093\n",
      "contrast_std: 151.49583658684202\n",
      "==============================\n",
      "\n",
      "dissimilarity_mean:  15.062836297812941\n",
      "dissimilarity_mean:  11.532143856512516\n",
      "dissimilarity_std: 6.068790552745152\n",
      "dissimilarity_std: 3.3687110760986894\n",
      "==============================\n",
      "\n"
     ]
    },
    {
     "name": "stderr",
     "output_type": "stream",
     "text": [
      "C:\\ProgramData\\anaconda3\\lib\\site-packages\\skimage\\feature\\__init__.py:42: skimage_deprecation: Function ``greycoprops`` is deprecated and will be removed in version 1.0. Use ``skimage.feature.graycoprops`` instead.\n",
      "  removed_version='1.0')\n",
      "C:\\ProgramData\\anaconda3\\lib\\site-packages\\skimage\\feature\\__init__.py:42: skimage_deprecation: Function ``greycoprops`` is deprecated and will be removed in version 1.0. Use ``skimage.feature.graycoprops`` instead.\n",
      "  removed_version='1.0')\n",
      "C:\\ProgramData\\anaconda3\\lib\\site-packages\\skimage\\feature\\__init__.py:42: skimage_deprecation: Function ``greycoprops`` is deprecated and will be removed in version 1.0. Use ``skimage.feature.graycoprops`` instead.\n",
      "  removed_version='1.0')\n",
      "C:\\ProgramData\\anaconda3\\lib\\site-packages\\skimage\\feature\\__init__.py:42: skimage_deprecation: Function ``greycoprops`` is deprecated and will be removed in version 1.0. Use ``skimage.feature.graycoprops`` instead.\n",
      "  removed_version='1.0')\n",
      "C:\\ProgramData\\anaconda3\\lib\\site-packages\\skimage\\feature\\__init__.py:42: skimage_deprecation: Function ``greycoprops`` is deprecated and will be removed in version 1.0. Use ``skimage.feature.graycoprops`` instead.\n",
      "  removed_version='1.0')\n",
      "C:\\ProgramData\\anaconda3\\lib\\site-packages\\skimage\\feature\\__init__.py:42: skimage_deprecation: Function ``greycoprops`` is deprecated and will be removed in version 1.0. Use ``skimage.feature.graycoprops`` instead.\n",
      "  removed_version='1.0')\n"
     ]
    }
   ],
   "source": [
    "import numpy as np\n",
    "import cv2\n",
    "import skimage\n",
    "\n",
    "# def compress_gray(img):\n",
    "#     bins = np.linspace(0, 255, 64)\n",
    "#     compress_gray = np.digitize(img, bins)\n",
    "#     gray = np.uint8(compress_gray)\n",
    "#     return gray\n",
    "\n",
    "#GLCM矩阵\n",
    "#https://zhuanlan.zhihu.com/p/295444415\n",
    "def GLCM(gray1, gray2):\n",
    "    # get a gray level co-occurrence matrix (GLCM)\n",
    "    # parameters：the matrix of gray image，distance，direction，gray level，symmetric or not，standarzation or not\n",
    "    glcm1 = skimage.feature.graycomatrix(gray1, [2, 4, 8, 16], [0, np.pi / 4, np.pi / 2, np.pi * 3 / 4], 256, symmetric = True, normed = True)\n",
    "    glcm2 = skimage.feature.graycomatrix(gray2, [2, 4, 8, 16], [0, np.pi / 4, np.pi / 2, np.pi * 3 / 4], 256, symmetric = True, normed = True)\n",
    "    # print(glcm.shape)\n",
    "    print(\"===============================\\n\")\n",
    "\n",
    "    #获取共生矩阵的统计值.\n",
    "    for prop in {'contrast', 'dissimilarity', 'ASM'}:\n",
    "        # , 'dissimilarity','homogeneity', 'energy', 'correlation', 'ASM'\n",
    "        temp1 = skimage.feature.greycoprops(glcm1, prop)\n",
    "        temp2 = skimage.feature.greycoprops(glcm2, prop)\n",
    "        # print(prop, temp)\n",
    "        print(prop + \"_mean: \", np.mean(temp1))\n",
    "        print(prop + \"_mean: \", np.mean(temp2))\n",
    "        print(prop + \"_std:\", np.std(temp1, ddof = 1))\n",
    "        print(prop + \"_std:\", np.std(temp2, ddof = 1))\n",
    "        print( \"==============================\\n\")\n",
    "\n",
    "\n",
    "if __name__ == '__main__':\n",
    "    img1 = cv2.imread(\"C:/Users/14838/Desktop/MachineLearning/airplane/airplane02.tif\", cv2.IMREAD_GRAYSCALE)\n",
    "    img2 = cv2.imread(\"C:/Users/14838/Desktop/MachineLearning/forest/forest02.tif\", cv2.IMREAD_GRAYSCALE)\n",
    "    GLCM(img1,img2)\n",
    "\n",
    "\n"
   ]
  },
  {
   "cell_type": "code",
   "execution_count": 4,
   "outputs": [],
   "source": [],
   "metadata": {
    "collapsed": false,
    "ExecuteTime": {
     "end_time": "2023-05-20T17:37:42.036230600Z",
     "start_time": "2023-05-20T17:37:42.018735800Z"
    }
   }
  },
  {
   "cell_type": "code",
   "execution_count": null,
   "outputs": [],
   "source": [],
   "metadata": {
    "collapsed": false
   }
  }
 ],
 "metadata": {
  "kernelspec": {
   "display_name": "Python 3",
   "language": "python",
   "name": "python3"
  },
  "language_info": {
   "codemirror_mode": {
    "name": "ipython",
    "version": 2
   },
   "file_extension": ".py",
   "mimetype": "text/x-python",
   "name": "python",
   "nbconvert_exporter": "python",
   "pygments_lexer": "ipython2",
   "version": "2.7.6"
  }
 },
 "nbformat": 4,
 "nbformat_minor": 0
}
